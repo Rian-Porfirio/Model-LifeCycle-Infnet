{
 "cells": [
  {
   "cell_type": "markdown",
   "id": "d41b97ec",
   "metadata": {},
   "source": [
    "### Preparando os Dados\n",
    "\n",
    "Neste exercício, carregamos a base de dados dos pinguins e preparamos os dados para um classificador binário: identificar pinguins da espécie *Adelie*.\n"
   ]
  },
  {
   "cell_type": "code",
   "execution_count": null,
   "id": "0a75556c",
   "metadata": {},
   "outputs": [],
   "source": [
    "import pandas as pd\n",
    "from sklearn.model_selection import train_test_split\n",
    "\n",
    "# Carregar os dados\n",
    "url = 'https://raw.githubusercontent.com/mcnakhaee/palmerpenguins/master/penguins.csv'\n",
    "df = pd.read_csv(url)\n",
    "\n",
    "# Remover valores ausentes\n",
    "df = df.dropna()\n",
    "\n",
    "# Criar variável binária: Adelie vs Outras\n",
    "df['label'] = df['species'].apply(lambda x: 1 if x == 'Adelie' else 0)\n",
    "\n",
    "# Seleção de features\n",
    "X = df[['bill_length_mm', 'bill_depth_mm', 'flipper_length_mm', 'body_mass_g']]\n",
    "y = df['label']\n",
    "\n",
    "# Separação treino/validação\n",
    "X_train, X_val, y_train, y_val = train_test_split(X, y, test_size=0.2, random_state=42)"
   ]
  },
  {
   "cell_type": "markdown",
   "id": "a39b531f",
   "metadata": {},
   "source": [
    "### Construção do Modelo com KNN\n",
    "\n",
    "Utilizamos o algoritmo K-Nearest Neighbors (KNN) com 3 vizinhos para treinar um modelo que reconhece pinguins da espécie Adelie.\n"
   ]
  },
  {
   "cell_type": "code",
   "execution_count": null,
   "id": "01dfdb61",
   "metadata": {},
   "outputs": [],
   "source": [
    "from sklearn.neighbors import KNeighborsClassifier\n",
    "\n",
    "knn = KNeighborsClassifier(n_neighbors=3)\n",
    "knn.fit(X_train, y_train)"
   ]
  },
  {
   "cell_type": "markdown",
   "id": "ecdcfb7b",
   "metadata": {},
   "source": [
    "### Avaliação do Modelo\n",
    "\n",
    "Avaliação da acurácia do modelo treinado usando os dados de validação.\n"
   ]
  },
  {
   "cell_type": "code",
   "execution_count": null,
   "id": "d00c5373",
   "metadata": {},
   "outputs": [],
   "source": [
    "from sklearn.metrics import accuracy_score\n",
    "\n",
    "y_pred = knn.predict(X_val)\n",
    "accuracy = accuracy_score(y_val, y_pred)\n",
    "print(f\"Acurácia Adelie vs outras: {accuracy:.2f}\")"
   ]
  },
  {
   "cell_type": "markdown",
   "id": "b27981be",
   "metadata": {},
   "source": [
    "### Novo Modelo - Gentoo vs Outras\n",
    "\n",
    "Criamos agora um modelo para identificar se o pinguim pertence à espécie Gentoo, repetindo os mesmos passos."
   ]
  },
  {
   "cell_type": "code",
   "execution_count": null,
   "id": "6d6e4812",
   "metadata": {},
   "outputs": [],
   "source": [
    "# Recriar rótulo para Gentoo vs outras\n",
    "df['label'] = df['species'].apply(lambda x: 1 if x == 'Gentoo' else 0)\n",
    "\n",
    "# Atualizar X e y\n",
    "X = df[['bill_length_mm', 'bill_depth_mm', 'flipper_length_mm', 'body_mass_g']]\n",
    "y = df['label']\n",
    "\n",
    "# Divisão dos dados\n",
    "X_train, X_val, y_train, y_val = train_test_split(X, y, test_size=0.2, random_state=42)\n",
    "\n",
    "# Novo modelo KNN\n",
    "knn = KNeighborsClassifier(n_neighbors=3)\n",
    "knn.fit(X_train, y_train)\n",
    "\n",
    "# Avaliação\n",
    "y_pred = knn.predict(X_val)\n",
    "accuracy = accuracy_score(y_val, y_pred)\n",
    "print(f\"Acurácia Gentoo vs outras: {accuracy:.2f}\")"
   ]
  }
 ],
 "metadata": {
  "kernelspec": {
   "display_name": "Python 3",
   "language": "python",
   "name": "python3"
  },
  "language_info": {
   "name": "python",
   "version": "3.11.9"
  }
 },
 "nbformat": 4,
 "nbformat_minor": 5
}
